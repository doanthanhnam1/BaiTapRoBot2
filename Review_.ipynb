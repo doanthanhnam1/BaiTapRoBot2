{
  "nbformat": 4,
  "nbformat_minor": 0,
  "metadata": {
    "colab": {
      "provenance": [],
      "collapsed_sections": [
        "TUomXf_E75gU",
        "88-iedzvBzvv",
        "bBD4imP0J9Hc",
        "GOzi5BDWdoIw",
        "_s8WzL4PjeUU",
        "9jN780W5qWgs"
      ],
      "include_colab_link": true
    },
    "kernelspec": {
      "name": "python3",
      "display_name": "Python 3"
    },
    "language_info": {
      "name": "python"
    }
  },
  "cells": [
    {
      "cell_type": "markdown",
      "metadata": {
        "id": "view-in-github",
        "colab_type": "text"
      },
      "source": [
        "<a href=\"https://colab.research.google.com/github/doanthanhnam1/BaiTapRoBot2/blob/main/Review_.ipynb\" target=\"_parent\"><img src=\"https://colab.research.google.com/assets/colab-badge.svg\" alt=\"Open In Colab\"/></a>"
      ]
    },
    {
      "cell_type": "markdown",
      "source": [
        "# Pandas : thư viện xử lí dữ liệu \n",
        "#   + linh động hơn \n",
        "#   + xử lí với dữ liệu lớn hơn "
      ],
      "metadata": {
        "id": "TUomXf_E75gU"
      }
    },
    {
      "cell_type": "code",
      "source": [
        "import pandas as pd # thư viện pandas dùng để truy suất dữ liệu từ csv vào dataframe để tính toán \n",
        "url= '/content/pokemon_data.csv'# biến lưu dữ liệu csv vào \n",
        "df= pd.read_csv(url)#dọc dữ liệu từ file \n",
        "# print(df.head(5)) # in ra 5 dònhg đầu tiên \n",
        "#print(df['Name'][0:5]) # in ra comlunms ten Name tu 0-5\n",
        "print(df[['Name','Type 1','HP']][0:10])"
      ],
      "metadata": {
        "id": "IBJsBqqr75w3"
      },
      "execution_count": null,
      "outputs": []
    },
    {
      "cell_type": "markdown",
      "source": [
        "# 1.Đọc dữ liệu từng dòng (row)"
      ],
      "metadata": {
        "id": "88-iedzvBzvv"
      }
    },
    {
      "cell_type": "code",
      "source": [
        "#print(df.iloc[2:4])\n",
        "#read a specific loacation(R,C)         R : row   C: colunm\n",
        "#print(df.iloc[2,1])\n",
        "#doc du lieu cac dong trung nhau \n",
        "#for index, row in df.iterrows():\n",
        "  #print(index,row['Name'])\n",
        "\n",
        "\n",
        "# loc du cu the thuoc 1 dong \n",
        "df.loc[df['Type 1']==\"Fire\"]"
      ],
      "metadata": {
        "id": "f-9bWlKlCYYD",
        "outputId": "313f299a-f6aa-468f-d526-9747b0d7c176",
        "colab": {
          "base_uri": "https://localhost:8080/",
          "height": 200
        }
      },
      "execution_count": null,
      "outputs": [
        {
          "output_type": "error",
          "ename": "NameError",
          "evalue": "ignored",
          "traceback": [
            "\u001b[0;31m---------------------------------------------------------------------------\u001b[0m",
            "\u001b[0;31mNameError\u001b[0m                                 Traceback (most recent call last)",
            "\u001b[0;32m<ipython-input-1-66ba52498009>\u001b[0m in \u001b[0;36m<module>\u001b[0;34m\u001b[0m\n\u001b[1;32m      8\u001b[0m \u001b[0;34m\u001b[0m\u001b[0m\n\u001b[1;32m      9\u001b[0m \u001b[0;31m# loc du cu the thuoc 1 dong\u001b[0m\u001b[0;34m\u001b[0m\u001b[0;34m\u001b[0m\u001b[0m\n\u001b[0;32m---> 10\u001b[0;31m \u001b[0mdf\u001b[0m\u001b[0;34m.\u001b[0m\u001b[0mloc\u001b[0m\u001b[0;34m[\u001b[0m\u001b[0mdf\u001b[0m\u001b[0;34m[\u001b[0m\u001b[0;34m'Type 1'\u001b[0m\u001b[0;34m]\u001b[0m\u001b[0;34m==\u001b[0m\u001b[0;34m\"Fire\"\u001b[0m\u001b[0;34m]\u001b[0m\u001b[0;34m\u001b[0m\u001b[0;34m\u001b[0m\u001b[0m\n\u001b[0m",
            "\u001b[0;31mNameError\u001b[0m: name 'df' is not defined"
          ]
        }
      ]
    },
    {
      "cell_type": "markdown",
      "source": [
        "2.Sắp xếp/mô tả dữ liệu "
      ],
      "metadata": {
        "id": "51HJ0r-vHMFF"
      }
    },
    {
      "cell_type": "code",
      "source": [
        "#df.sort_values('Name',ascending = False)#sắp xếp cột Name theo thuuws tự nguọc lại bảng chữ cái\n",
        "#df.sort_values(['Type 1','HP'], ascending=True)# sap xep theo thu tu cot HP tang dan \n",
        "#df.sort_values(['Type 1','HP'], ascending=[1,0])"
      ],
      "metadata": {
        "id": "80I4zKbfHgQw"
      },
      "execution_count": null,
      "outputs": []
    },
    {
      "cell_type": "markdown",
      "source": [
        "# 3.Thay đổi sữ liệu "
      ],
      "metadata": {
        "id": "bBD4imP0J9Hc"
      }
    },
    {
      "cell_type": "code",
      "source": [
        "from numpy import column_stack\n",
        "#print(df.head(5))\n",
        "#df['total'] = df['HP'] + df['Attack'] + df['Defense'] + df['Sp. Atk'] + df['Sp. Def'] + df['Speed']\n",
        "#df = df.drop(columns=['total'])#Xoa dong columns 'total'\n",
        "\n",
        "df['total']=df.iloc[:,4:8].sum(axis=1)#thêm total là tôrng của 4 cột\n",
        "#axis =1 thêm theo chiều ngang \n",
        "#axis = 0 thêm theo chiều dọc  \n",
        "\n",
        "\n",
        "#thay doi vi tri cua colunms\n",
        "cols = list(df.columns)\n",
        "df = df[cols[0:4]+[cols[-1]]+cols[4:12]]\n",
        "print(df.head(5))"
      ],
      "metadata": {
        "id": "JJGWN8teKFlr",
        "outputId": "b3134cbc-80a2-4c8a-ce92-2ba574d81b57",
        "colab": {
          "base_uri": "https://localhost:8080/",
          "height": 235
        }
      },
      "execution_count": 1,
      "outputs": [
        {
          "output_type": "error",
          "ename": "NameError",
          "evalue": "ignored",
          "traceback": [
            "\u001b[0;31m---------------------------------------------------------------------------\u001b[0m",
            "\u001b[0;31mNameError\u001b[0m                                 Traceback (most recent call last)",
            "\u001b[0;32m<ipython-input-1-eaf69970f1aa>\u001b[0m in \u001b[0;36m<module>\u001b[0;34m\u001b[0m\n\u001b[1;32m      4\u001b[0m \u001b[0;31m#df = df.drop(columns=['total'])#Xoa dong columns 'total'\u001b[0m\u001b[0;34m\u001b[0m\u001b[0;34m\u001b[0m\u001b[0m\n\u001b[1;32m      5\u001b[0m \u001b[0;34m\u001b[0m\u001b[0m\n\u001b[0;32m----> 6\u001b[0;31m \u001b[0mdf\u001b[0m\u001b[0;34m[\u001b[0m\u001b[0;34m'total'\u001b[0m\u001b[0;34m]\u001b[0m\u001b[0;34m=\u001b[0m\u001b[0mdf\u001b[0m\u001b[0;34m.\u001b[0m\u001b[0miloc\u001b[0m\u001b[0;34m[\u001b[0m\u001b[0;34m:\u001b[0m\u001b[0;34m,\u001b[0m\u001b[0;36m4\u001b[0m\u001b[0;34m:\u001b[0m\u001b[0;36m8\u001b[0m\u001b[0;34m]\u001b[0m\u001b[0;34m.\u001b[0m\u001b[0msum\u001b[0m\u001b[0;34m(\u001b[0m\u001b[0maxis\u001b[0m\u001b[0;34m=\u001b[0m\u001b[0;36m1\u001b[0m\u001b[0;34m)\u001b[0m\u001b[0;31m#thêm total là tôrng của 4 cột\u001b[0m\u001b[0;34m\u001b[0m\u001b[0;34m\u001b[0m\u001b[0m\n\u001b[0m\u001b[1;32m      7\u001b[0m \u001b[0;31m#axis =1 thêm theo chiều ngang\u001b[0m\u001b[0;34m\u001b[0m\u001b[0;34m\u001b[0m\u001b[0m\n\u001b[1;32m      8\u001b[0m \u001b[0;31m#axis = 0 thêm theo chiều dọc\u001b[0m\u001b[0;34m\u001b[0m\u001b[0;34m\u001b[0m\u001b[0m\n",
            "\u001b[0;31mNameError\u001b[0m: name 'df' is not defined"
          ]
        }
      ]
    },
    {
      "cell_type": "markdown",
      "source": [
        "# 4.Lưu dữ liệu "
      ],
      "metadata": {
        "id": "GOzi5BDWdoIw"
      }
    },
    {
      "cell_type": "code",
      "source": [
        "#print(df)\n",
        "#df.to_csv('modified.csv',index=False)#xuất file exel đã chỉnh sửa\n",
        "\n",
        "#xuất file xlsx\n",
        "#df.to_excel('modified.xlsx',index=False)\n",
        "\n",
        "#xuất file txt\n",
        "df.to_csv('modified.txt',index=False,sep='\\t')"
      ],
      "metadata": {
        "id": "Lwww7z3XdsdP"
      },
      "execution_count": null,
      "outputs": []
    },
    {
      "cell_type": "markdown",
      "source": [
        "# 5.Lọc dữ liệu "
      ],
      "metadata": {
        "id": "_s8WzL4PjeUU"
      }
    },
    {
      "cell_type": "code",
      "source": [
        "#new_df = df.loc[(df['Type 1']== 'Grass')& (df['Type 2']=='Poison')&(df['HP']>70)]\n",
        "# & : loc du liệu Type 1 and Type 2 \n",
        "# | : loc du liệu Type 1 or Type 2 \n",
        "#new_df.to_csv('filtered.csv')\n",
        "#new_df = new_df.reset_index(drop=True)\n",
        "#new_df\n",
        "\n",
        "#df.loc[df['Name'].str.contains('Mega')]#tìm tất cả các Name có _Mega\n",
        "#df.loc[~df['Name'].str.contains('Mega')]#tìm tất cả các tên trừ Mega \n",
        "\n",
        "\n",
        "#Tìm dữ liệu thuộc cùng một cột và có mối liên hệ với nhau \n",
        "import re \n",
        "df.loc[df['Type 1'].str.contains('Fire|Grass',regex=True)]\n"
      ],
      "metadata": {
        "id": "b9B2sfJ4jjSB"
      },
      "execution_count": null,
      "outputs": []
    },
    {
      "cell_type": "markdown",
      "source": [
        "# 6.Đặt điều kiện "
      ],
      "metadata": {
        "id": "9jN780W5qWgs"
      }
    },
    {
      "cell_type": "code",
      "source": [
        "#df.loc[df['Type 1']=='Flamer','Type 1'] = 'Fire'\n",
        "#Thay thế Flamer thành Fire trong file dữ liệu\n",
        "#df.loc[df['total']>300,['Generation','Legendary']] = ['Test1','Test2']\n",
        "#df\n",
        "\n",
        "df=pd.read_csv('/content/modified.csv')\n",
        "df"
      ],
      "metadata": {
        "id": "_nR1lPoeqdxK"
      },
      "execution_count": null,
      "outputs": []
    },
    {
      "cell_type": "markdown",
      "source": [
        "# 7.Sắp xếp dữ liệu theo nhóm "
      ],
      "metadata": {
        "id": "9tM2MTE6tHKH"
      }
    },
    {
      "cell_type": "code",
      "source": [
        "df=pd.read_csv('/content/modified.csv')\n",
        "\n",
        "\n",
        "#df.groupby(['Type 1']).mean().sort_values('Defense',ascending=False)\n",
        "# there are some Funtions that we can use like : count(),mean(),sum()\n",
        "\n",
        "\n",
        "df['count'] = 1\n",
        "df.groupby(['Type 1','Type 2']).count()['count']\n",
        "\n"
      ],
      "metadata": {
        "colab": {
          "base_uri": "https://localhost:8080/"
        },
        "id": "eGmYoy-RtNYP",
        "outputId": "787cef0e-0077-48ff-d13e-535a5055854c"
      },
      "execution_count": null,
      "outputs": [
        {
          "output_type": "execute_result",
          "data": {
            "text/plain": [
              "Type 1  Type 2  \n",
              "Bug     Electric     2\n",
              "        Fighting     2\n",
              "        Fire         2\n",
              "        Flying      14\n",
              "        Ghost        1\n",
              "                    ..\n",
              "Water   Ice          3\n",
              "        Poison       3\n",
              "        Psychic      5\n",
              "        Rock         4\n",
              "        Steel        1\n",
              "Name: count, Length: 136, dtype: int64"
            ]
          },
          "metadata": {},
          "execution_count": 100
        }
      ]
    }
  ]
}